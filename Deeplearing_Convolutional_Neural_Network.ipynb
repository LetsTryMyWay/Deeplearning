{
  "nbformat": 4,
  "nbformat_minor": 0,
  "metadata": {
    "colab": {
      "provenance": []
    },
    "kernelspec": {
      "name": "python3",
      "display_name": "Python 3"
    },
    "language_info": {
      "name": "python"
    }
  },
  "cells": [
    {
      "cell_type": "code",
      "source": [
        "import numpy as np\n",
        "import tensorflow as tf\n",
        "from tensorflow.keras import datasets, layers, models\n",
        "import matplotlib.pyplot as plt\n",
        "from sklearn import metrics\n",
        "from sklearn.model_selection import train_test_split\n",
        "import cv2 as cv\n",
        "import os, sys"
      ],
      "metadata": {
        "id": "r1XP1VPv2bO8"
      },
      "execution_count": 5,
      "outputs": []
    },
    {
      "cell_type": "code",
      "source": [
        "path1='/content/drive/MyDrive/Dementia Dataset/Normal'\n",
        "path2='/content/drive/MyDrive/Dementia Dataset/Dementia'\n",
        "files1=os.listdir(path1)\n",
        "files2=os.listdir(path2)\n",
        "Num_files_N=len(files1)\n",
        "Num_files_D=len(files2)\n",
        "dataset_len=Num_files_N+Num_files_D"
      ],
      "metadata": {
        "id": "TVj8yTB42bRE"
      },
      "execution_count": 6,
      "outputs": []
    },
    {
      "cell_type": "code",
      "source": [
        "name=path1+'/'+files1[0]\n",
        "img=cv.imread(name)\n",
        "img_gs=cv.cvtColor(img,cv.COLOR_RGB2GRAY)\n",
        "img_gs_r=cv.resize(img_gs,(100,100))"
      ],
      "metadata": {
        "id": "qufRHzn32bS2"
      },
      "execution_count": 7,
      "outputs": []
    },
    {
      "cell_type": "code",
      "source": [
        "plt.imshow(img_gs_r,cmap='gray')"
      ],
      "metadata": {
        "colab": {
          "base_uri": "https://localhost:8080/",
          "height": 450
        },
        "id": "7Oai0CLA2bUm",
        "outputId": "59e32acd-c58f-4cce-ac03-2d2deed568b1"
      },
      "execution_count": 8,
      "outputs": [
        {
          "output_type": "execute_result",
          "data": {
            "text/plain": [
              "<matplotlib.image.AxesImage at 0x7f1614ac4190>"
            ]
          },
          "metadata": {},
          "execution_count": 8
        },
        {
          "output_type": "display_data",
          "data": {
            "text/plain": [
              "<Figure size 640x480 with 1 Axes>"
            ],
            "image/png": "[encoded data removed]"
          },
          "metadata": {}
        }
      ]
    },
    {
      "cell_type": "code",
      "source": [
        "data=np.zeros((dataset_len,100,100,1))\n",
        "label=[]\n",
        "data.shape"
      ],
      "metadata": {
        "colab": {
          "base_uri": "https://localhost:8080/"
        },
        "id": "TulGfKl62bX4",
        "outputId": "2945629b-c12d-4e69-d5db-29d25eab1eba"
      },
      "execution_count": 9,
      "outputs": [
        {
          "output_type": "execute_result",
          "data": {
            "text/plain": [
              "(200, 100, 100, 1)"
            ]
          },
          "metadata": {},
          "execution_count": 9
        }
      ]
    },
    {
      "cell_type": "code",
      "source": [
        "for i in range(Num_files_N):\n",
        "    name=path1+'/'+files1[i]\n",
        "    img=cv.imread(name)\n",
        "    img_gs=cv.cvtColor(img,cv.COLOR_RGB2GRAY)\n",
        "    img_gs=cv.resize(img_gs,(100,100))\n",
        "    img_gs=img_gs/255\n",
        "    img_gs=img_gs.reshape(100,100,1)\n",
        "    data[i,:,:]=img_gs\n",
        "    label.append('Normal')"
      ],
      "metadata": {
        "id": "7qe1DrYU3VHl"
      },
      "execution_count": 10,
      "outputs": []
    },
    {
      "cell_type": "code",
      "source": [
        "for i in range(Num_files_D):\n",
        "    name=path2+'/'+files2[i]\n",
        "    img=cv.imread(name)\n",
        "    img_gs=cv.cvtColor(img,cv.COLOR_RGB2GRAY)\n",
        "    img_gs=cv.resize(img_gs,(100,100))\n",
        "    img_gs=img_gs/255\n",
        "    img_gs=img_gs.reshape(100,100,1)\n",
        "    data[i+Num_files_N,:,:]=img_gs\n",
        "    label.append('Dementia')"
      ],
      "metadata": {
        "id": "Q78_t_B94JWW"
      },
      "execution_count": 11,
      "outputs": []
    },
    {
      "cell_type": "code",
      "source": [
        "from sklearn.preprocessing import LabelEncoder\n",
        "le=LabelEncoder()\n",
        "lab=le.fit_transform(label)"
      ],
      "metadata": {
        "id": "jF08H3eh4Mou"
      },
      "execution_count": 12,
      "outputs": []
    },
    {
      "cell_type": "code",
      "source": [
        "label"
      ],
      "metadata": {
        "id": "Fs7-oJBT4TmV"
      },
      "execution_count": null,
      "outputs": []
    },
    {
      "cell_type": "code",
      "source": [
        "lab\n"
      ],
      "metadata": {
        "colab": {
          "base_uri": "https://localhost:8080/"
        },
        "id": "wmqXxdvf4Wro",
        "outputId": "3a3762c5-0621-452b-878c-1914331544d1"
      },
      "execution_count": 14,
      "outputs": [
        {
          "output_type": "execute_result",
          "data": {
            "text/plain": [
              "array([1, 1, 1, 1, 1, 1, 1, 1, 1, 1, 1, 1, 1, 1, 1, 1, 1, 1, 1, 1, 1, 1,\n",
              "       1, 1, 1, 1, 1, 1, 1, 1, 1, 1, 1, 1, 1, 1, 1, 1, 1, 1, 1, 1, 1, 1,\n",
              "       1, 1, 1, 1, 1, 1, 1, 1, 1, 1, 1, 1, 1, 1, 1, 1, 1, 1, 1, 1, 1, 1,\n",
              "       1, 1, 1, 1, 1, 1, 1, 1, 1, 1, 1, 1, 1, 1, 1, 1, 1, 1, 1, 1, 1, 1,\n",
              "       1, 1, 1, 1, 1, 1, 1, 1, 1, 1, 1, 1, 0, 0, 0, 0, 0, 0, 0, 0, 0, 0,\n",
              "       0, 0, 0, 0, 0, 0, 0, 0, 0, 0, 0, 0, 0, 0, 0, 0, 0, 0, 0, 0, 0, 0,\n",
              "       0, 0, 0, 0, 0, 0, 0, 0, 0, 0, 0, 0, 0, 0, 0, 0, 0, 0, 0, 0, 0, 0,\n",
              "       0, 0, 0, 0, 0, 0, 0, 0, 0, 0, 0, 0, 0, 0, 0, 0, 0, 0, 0, 0, 0, 0,\n",
              "       0, 0, 0, 0, 0, 0, 0, 0, 0, 0, 0, 0, 0, 0, 0, 0, 0, 0, 0, 0, 0, 0,\n",
              "       0, 0])"
            ]
          },
          "metadata": {},
          "execution_count": 14
        }
      ]
    },
    {
      "cell_type": "code",
      "source": [
        "train_images,test_images,train_labels,test_labels=train_test_split(data,lab,test_size=0.2, random_state=1)\n"
      ],
      "metadata": {
        "id": "uvhbpqui4hB2"
      },
      "execution_count": 15,
      "outputs": []
    },
    {
      "cell_type": "code",
      "source": [
        "train_labels"
      ],
      "metadata": {
        "colab": {
          "base_uri": "https://localhost:8080/"
        },
        "id": "kNtPw_Lw4ij2",
        "outputId": "399498a4-da42-4d9e-d865-d80eb6e9c1d3"
      },
      "execution_count": 16,
      "outputs": [
        {
          "output_type": "execute_result",
          "data": {
            "text/plain": [
              "array([0, 0, 0, 1, 1, 1, 0, 1, 0, 0, 1, 0, 0, 1, 1, 0, 0, 0, 0, 0, 0, 1,\n",
              "       1, 1, 1, 1, 0, 0, 1, 1, 1, 1, 0, 0, 0, 0, 1, 0, 1, 0, 0, 1, 1, 0,\n",
              "       0, 1, 1, 0, 0, 1, 1, 1, 0, 0, 0, 0, 0, 0, 0, 0, 1, 1, 1, 0, 1, 1,\n",
              "       1, 0, 1, 0, 1, 0, 1, 1, 1, 0, 1, 0, 1, 1, 1, 1, 0, 0, 0, 1, 0, 0,\n",
              "       0, 1, 1, 1, 0, 0, 0, 1, 0, 1, 0, 0, 0, 0, 0, 0, 1, 1, 1, 0, 0, 1,\n",
              "       1, 1, 1, 1, 1, 1, 0, 1, 0, 0, 0, 1, 0, 0, 0, 1, 1, 0, 1, 1, 1, 1,\n",
              "       1, 1, 0, 0, 1, 1, 1, 1, 0, 0, 0, 0, 0, 0, 1, 0, 1, 0, 1, 0, 0, 0,\n",
              "       1, 0, 0, 1, 0, 1])"
            ]
          },
          "metadata": {},
          "execution_count": 16
        }
      ]
    },
    {
      "cell_type": "code",
      "source": [
        "print('Train Dataset Size:',np.size(train_labels))\n",
        "print('Test Dataset Size:',np.size(test_labels))\n"
      ],
      "metadata": {
        "colab": {
          "base_uri": "https://localhost:8080/"
        },
        "id": "-ll13_0Z4kqB",
        "outputId": "0adf93e8-3850-403c-c020-6d0b106a3eea"
      },
      "execution_count": 18,
      "outputs": [
        {
          "output_type": "stream",
          "name": "stdout",
          "text": [
            "Train Dataset Size: 160\n",
            "Test Dataset Size: 40\n"
          ]
        }
      ]
    },
    {
      "cell_type": "code",
      "source": [
        "np.unique(test_labels,return_counts=True)\n"
      ],
      "metadata": {
        "colab": {
          "base_uri": "https://localhost:8080/"
        },
        "id": "e7ureHn74-io",
        "outputId": "7a238956-6cf1-4428-a49d-41768f7a9842"
      },
      "execution_count": 19,
      "outputs": [
        {
          "output_type": "execute_result",
          "data": {
            "text/plain": [
              "(array([0, 1]), array([17, 23]))"
            ]
          },
          "metadata": {},
          "execution_count": 19
        }
      ]
    },
    {
      "cell_type": "code",
      "source": [
        "network=models.Sequential()\n",
        "network.add(layers.Conv2D(32,(3,3),activation='relu', input_shape=(100,100,1)))\n",
        "network.add(layers.MaxPooling2D((2,2)))\n",
        "network.add(layers.Conv2D(64,(7,7),activation='relu'))\n",
        "network.add(layers.Conv2D(32,(3,3),activation='relu'))\n",
        "network.add(layers.MaxPooling2D((3,3)))"
      ],
      "metadata": {
        "id": "m6Usi42N4-tv"
      },
      "execution_count": 20,
      "outputs": []
    },
    {
      "cell_type": "code",
      "source": [
        "network.summary()\n"
      ],
      "metadata": {
        "colab": {
          "base_uri": "https://localhost:8080/"
        },
        "id": "oBjYhAAN4-v0",
        "outputId": "bc15f178-a049-49b5-c22e-775a3af3cfdf"
      },
      "execution_count": 21,
      "outputs": [
        {
          "output_type": "stream",
          "name": "stdout",
          "text": [
            "Model: \"sequential\"\n",
            "_________________________________________________________________\n",
            " Layer (type)                Output Shape              Param #   \n",
            "=================================================================\n",
            " conv2d (Conv2D)             (None, 98, 98, 32)        320       \n",
            "                                                                 \n",
            " max_pooling2d (MaxPooling2D  (None, 49, 49, 32)       0         \n",
            " )                                                               \n",
            "                                                                 \n",
            " conv2d_1 (Conv2D)           (None, 43, 43, 64)        100416    \n",
            "                                                                 \n",
            " conv2d_2 (Conv2D)           (None, 41, 41, 32)        18464     \n",
            "                                                                 \n",
            " max_pooling2d_1 (MaxPooling  (None, 13, 13, 32)       0         \n",
            " 2D)                                                             \n",
            "                                                                 \n",
            "=================================================================\n",
            "Total params: 119,200\n",
            "Trainable params: 119,200\n",
            "Non-trainable params: 0\n",
            "_________________________________________________________________\n"
          ]
        }
      ]
    },
    {
      "cell_type": "code",
      "source": [
        "network.add(layers.Flatten())\n",
        "network.add(layers.Dense(80,activation='relu'))\n",
        "network.add(layers.Dense(50,activation='relu'))\n",
        "network.add(layers.Dense(2,activation='softmax'))"
      ],
      "metadata": {
        "id": "W0ys7lBv4-zO"
      },
      "execution_count": 22,
      "outputs": []
    },
    {
      "cell_type": "code",
      "source": [
        "network.summary()\n",
        "\n"
      ],
      "metadata": {
        "colab": {
          "base_uri": "https://localhost:8080/"
        },
        "id": "JH9mBRkK5J3z",
        "outputId": "32c05d4c-0445-4dd0-9528-de5935af84bd"
      },
      "execution_count": 23,
      "outputs": [
        {
          "output_type": "stream",
          "name": "stdout",
          "text": [
            "Model: \"sequential\"\n",
            "_________________________________________________________________\n",
            " Layer (type)                Output Shape              Param #   \n",
            "=================================================================\n",
            " conv2d (Conv2D)             (None, 98, 98, 32)        320       \n",
            "                                                                 \n",
            " max_pooling2d (MaxPooling2D  (None, 49, 49, 32)       0         \n",
            " )                                                               \n",
            "                                                                 \n",
            " conv2d_1 (Conv2D)           (None, 43, 43, 64)        100416    \n",
            "                                                                 \n",
            " conv2d_2 (Conv2D)           (None, 41, 41, 32)        18464     \n",
            "                                                                 \n",
            " max_pooling2d_1 (MaxPooling  (None, 13, 13, 32)       0         \n",
            " 2D)                                                             \n",
            "                                                                 \n",
            " flatten (Flatten)           (None, 5408)              0         \n",
            "                                                                 \n",
            " dense (Dense)               (None, 80)                432720    \n",
            "                                                                 \n",
            " dense_1 (Dense)             (None, 50)                4050      \n",
            "                                                                 \n",
            " dense_2 (Dense)             (None, 2)                 102       \n",
            "                                                                 \n",
            "=================================================================\n",
            "Total params: 556,072\n",
            "Trainable params: 556,072\n",
            "Non-trainable params: 0\n",
            "_________________________________________________________________\n"
          ]
        }
      ]
    },
    {
      "cell_type": "code",
      "source": [
        "network.compile(optimizer='sgd',loss='sparse_categorical_crossentropy',metrics=['accuracy'])\n"
      ],
      "metadata": {
        "id": "X1g2W3aI5VQd"
      },
      "execution_count": 24,
      "outputs": []
    },
    {
      "cell_type": "code",
      "source": [
        "trained_network=network.fit(train_images,train_labels,epochs=5,validation_data=(test_images,test_labels))\n"
      ],
      "metadata": {
        "colab": {
          "base_uri": "https://localhost:8080/"
        },
        "id": "HKHvXTTq5VSk",
        "outputId": "071e53da-af3b-489d-e663-a92bb5a334b1"
      },
      "execution_count": 25,
      "outputs": [
        {
          "output_type": "stream",
          "name": "stdout",
          "text": [
            "Epoch 1/5\n",
            "5/5 [==============================] - 12s 2s/step - loss: 0.6935 - accuracy: 0.5063 - val_loss: 0.6947 - val_accuracy: 0.4250\n",
            "Epoch 2/5\n",
            "5/5 [==============================] - 7s 1s/step - loss: 0.6919 - accuracy: 0.5188 - val_loss: 0.6923 - val_accuracy: 0.5000\n",
            "Epoch 3/5\n",
            "5/5 [==============================] - 10s 2s/step - loss: 0.6908 - accuracy: 0.5875 - val_loss: 0.6916 - val_accuracy: 0.4500\n",
            "Epoch 4/5\n",
            "5/5 [==============================] - 8s 2s/step - loss: 0.6886 - accuracy: 0.5750 - val_loss: 0.6902 - val_accuracy: 0.5750\n",
            "Epoch 5/5\n",
            "5/5 [==============================] - 9s 2s/step - loss: 0.6863 - accuracy: 0.6500 - val_loss: 0.6912 - val_accuracy: 0.4250\n"
          ]
        }
      ]
    },
    {
      "cell_type": "code",
      "source": [
        "plt.plot(trained_network.history['accuracy'],label='Training Accuracy')\n",
        "plt.plot(trained_network.history['val_accuracy'],label='Validation Accuracy')\n",
        "plt.xlabel('Epoch')\n",
        "plt.ylabel('Accuracy')\n",
        "plt.ylim([0,1.1])\n",
        "plt.legend(loc='lower right')"
      ],
      "metadata": {
        "colab": {
          "base_uri": "https://localhost:8080/",
          "height": 466
        },
        "id": "wrgcCj8R5VUU",
        "outputId": "91c2e31b-4d78-401f-d5c4-7617d3cfa146"
      },
      "execution_count": 26,
      "outputs": [
        {
          "output_type": "execute_result",
          "data": {
            "text/plain": [
              "<matplotlib.legend.Legend at 0x7f1612a2b280>"
            ]
          },
          "metadata": {},
          "execution_count": 26
        },
        {
          "output_type": "display_data",
          "data": {
            "text/plain": [
              "<Figure size 640x480 with 1 Axes>"
            ],
            "image/png": "[encoded data removed]"
          },
          "metadata": {}
        }
      ]
    },
    {
      "cell_type": "code",
      "source": [
        "plt.plot(trained_network.history['loss'],label='Training Loss')\n",
        "plt.plot(trained_network.history['val_loss'],label='Validation Loss')\n",
        "plt.xlabel('Epoch')\n",
        "plt.ylabel('Loss')\n",
        "plt.legend(loc='upper right')"
      ],
      "metadata": {
        "colab": {
          "base_uri": "https://localhost:8080/",
          "height": 466
        },
        "id": "9Jwam_Bv5VV8",
        "outputId": "3c4f8528-6e68-4ff4-974c-68abf543cff1"
      },
      "execution_count": 27,
      "outputs": [
        {
          "output_type": "execute_result",
          "data": {
            "text/plain": [
              "<matplotlib.legend.Legend at 0x7f1609f08a00>"
            ]
          },
          "metadata": {},
          "execution_count": 27
        },
        {
          "output_type": "display_data",
          "data": {
            "text/plain": [
              "<Figure size 640x480 with 1 Axes>"
            ],
            "image/png": "[encoded data removed]"
          },
          "metadata": {}
        }
      ]
    },
    {
      "cell_type": "code",
      "source": [
        "test_loss,test_acc=network.evaluate(test_images,test_labels)\n"
      ],
      "metadata": {
        "colab": {
          "base_uri": "https://localhost:8080/"
        },
        "id": "1QXnUKIT6Ko9",
        "outputId": "cacc383e-19fa-447d-8140-8e097c382de8"
      },
      "execution_count": 29,
      "outputs": [
        {
          "output_type": "stream",
          "name": "stdout",
          "text": [
            "2/2 [==============================] - 0s 91ms/step - loss: 0.6912 - accuracy: 0.4250\n"
          ]
        }
      ]
    },
    {
      "cell_type": "code",
      "source": [
        "y_predict=network.predict(test_images)\n"
      ],
      "metadata": {
        "colab": {
          "base_uri": "https://localhost:8080/"
        },
        "id": "WFKI0pj46Kli",
        "outputId": "4c5c883f-9efb-4661-d8a4-8e194d6f7f94"
      },
      "execution_count": 30,
      "outputs": [
        {
          "output_type": "stream",
          "name": "stdout",
          "text": [
            "2/2 [==============================] - 1s 145ms/step\n"
          ]
        }
      ]
    },
    {
      "cell_type": "code",
      "source": [
        "y_predict\n"
      ],
      "metadata": {
        "colab": {
          "base_uri": "https://localhost:8080/"
        },
        "id": "kNyb69jv6Kjc",
        "outputId": "13e147d3-2c94-4093-fde6-3097de21e993"
      },
      "execution_count": 31,
      "outputs": [
        {
          "output_type": "execute_result",
          "data": {
            "text/plain": [
              "array([[0.5161459 , 0.4838541 ],\n",
              "       [0.5162978 , 0.48370212],\n",
              "       [0.5048964 , 0.49510348],\n",
              "       [0.52432746, 0.47567248],\n",
              "       [0.5102666 , 0.4897334 ],\n",
              "       [0.51801205, 0.4819879 ],\n",
              "       [0.50625694, 0.49374303],\n",
              "       [0.51123714, 0.48876277],\n",
              "       [0.5123547 , 0.48764533],\n",
              "       [0.5179136 , 0.48208636],\n",
              "       [0.5187497 , 0.48125026],\n",
              "       [0.51006895, 0.4899309 ],\n",
              "       [0.51342934, 0.48657072],\n",
              "       [0.5168906 , 0.48310947],\n",
              "       [0.5142427 , 0.48575732],\n",
              "       [0.5196631 , 0.48033696],\n",
              "       [0.5187382 , 0.48126176],\n",
              "       [0.5135032 , 0.48649678],\n",
              "       [0.516505  , 0.483495  ],\n",
              "       [0.50366896, 0.49633104],\n",
              "       [0.51289517, 0.48710483],\n",
              "       [0.51076376, 0.4892363 ],\n",
              "       [0.50531775, 0.4946821 ],\n",
              "       [0.5096858 , 0.4903142 ],\n",
              "       [0.51171285, 0.48828718],\n",
              "       [0.514942  , 0.48505804],\n",
              "       [0.50260836, 0.49739158],\n",
              "       [0.515464  , 0.48453602],\n",
              "       [0.52088594, 0.47911406],\n",
              "       [0.5030566 , 0.49694332],\n",
              "       [0.51428276, 0.48571718],\n",
              "       [0.51501757, 0.48498237],\n",
              "       [0.51495236, 0.48504764],\n",
              "       [0.52133834, 0.47866172],\n",
              "       [0.5138483 , 0.4861517 ],\n",
              "       [0.50374454, 0.4962554 ],\n",
              "       [0.5088364 , 0.4911636 ],\n",
              "       [0.51199853, 0.48800153],\n",
              "       [0.51037246, 0.4896276 ],\n",
              "       [0.51610327, 0.4838968 ]], dtype=float32)"
            ]
          },
          "metadata": {},
          "execution_count": 31
        }
      ]
    },
    {
      "cell_type": "code",
      "source": [
        "y_pred=[]\n",
        "for val in y_predict:\n",
        "    y_pred.append(np.argmax(val))"
      ],
      "metadata": {
        "id": "Jkr_trSz6Kgn"
      },
      "execution_count": 32,
      "outputs": []
    },
    {
      "cell_type": "code",
      "source": [
        "y_pred"
      ],
      "metadata": {
        "colab": {
          "base_uri": "https://localhost:8080/"
        },
        "id": "AWFfw-XN6KZs",
        "outputId": "e4db8a95-b766-4d9e-d9d9-2146bf01edf0"
      },
      "execution_count": 33,
      "outputs": [
        {
          "output_type": "execute_result",
          "data": {
            "text/plain": [
              "[0,\n",
              " 0,\n",
              " 0,\n",
              " 0,\n",
              " 0,\n",
              " 0,\n",
              " 0,\n",
              " 0,\n",
              " 0,\n",
              " 0,\n",
              " 0,\n",
              " 0,\n",
              " 0,\n",
              " 0,\n",
              " 0,\n",
              " 0,\n",
              " 0,\n",
              " 0,\n",
              " 0,\n",
              " 0,\n",
              " 0,\n",
              " 0,\n",
              " 0,\n",
              " 0,\n",
              " 0,\n",
              " 0,\n",
              " 0,\n",
              " 0,\n",
              " 0,\n",
              " 0,\n",
              " 0,\n",
              " 0,\n",
              " 0,\n",
              " 0,\n",
              " 0,\n",
              " 0,\n",
              " 0,\n",
              " 0,\n",
              " 0,\n",
              " 0]"
            ]
          },
          "metadata": {},
          "execution_count": 33
        }
      ]
    },
    {
      "cell_type": "code",
      "source": [
        "print(metrics.confusion_matrix(test_labels,y_pred))\n"
      ],
      "metadata": {
        "colab": {
          "base_uri": "https://localhost:8080/"
        },
        "id": "jaEIBTFC7HTg",
        "outputId": "77f9e5b8-08fe-4022-cd00-0daafbd01456"
      },
      "execution_count": 34,
      "outputs": [
        {
          "output_type": "stream",
          "name": "stdout",
          "text": [
            "[[17  0]\n",
            " [23  0]]\n"
          ]
        }
      ]
    },
    {
      "cell_type": "code",
      "source": [
        "print(metrics.accuracy_score(test_labels,y_pred))"
      ],
      "metadata": {
        "colab": {
          "base_uri": "https://localhost:8080/"
        },
        "id": "8sB0Con47HQI",
        "outputId": "1433dbdd-6133-46ac-aa17-08089a7ef8d1"
      },
      "execution_count": 35,
      "outputs": [
        {
          "output_type": "stream",
          "name": "stdout",
          "text": [
            "0.425\n"
          ]
        }
      ]
    }
  ]
}